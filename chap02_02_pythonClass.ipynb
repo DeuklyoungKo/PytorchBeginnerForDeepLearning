{
  "nbformat": 4,
  "nbformat_minor": 0,
  "metadata": {
    "colab": {
      "name": "chap02_02_pythonClass.ipynb",
      "provenance": [],
      "collapsed_sections": [],
      "authorship_tag": "ABX9TyOMtKGx/NEBHFKXECnJBimQ",
      "include_colab_link": true
    },
    "kernelspec": {
      "name": "python3",
      "display_name": "Python 3"
    },
    "language_info": {
      "name": "python"
    }
  },
  "cells": [
    {
      "cell_type": "markdown",
      "metadata": {
        "id": "view-in-github",
        "colab_type": "text"
      },
      "source": [
        "<a href=\"https://colab.research.google.com/github/DeuklyoungKo/PytorchBeginnerForDeepLearning/blob/main/chap02_02_pythonClass.ipynb\" target=\"_parent\"><img src=\"https://colab.research.google.com/assets/colab-badge.svg\" alt=\"Open In Colab\"/></a>"
      ]
    },
    {
      "cell_type": "code",
      "execution_count": 6,
      "metadata": {
        "id": "Emoh1xpz3SWe"
      },
      "outputs": [],
      "source": [
        "import numpy as np\n",
        "\n",
        "class DataPreprocessing:\n",
        "\n",
        "  def __init__(self, data, target):\n",
        "    self.data = data\n",
        "    self.target = target\n",
        "    self.num_instances = self.data.shape[0]\n",
        "    self.num_features = self.data.shape[1]\n",
        "\n",
        "  def minmax(self):\n",
        "    for i in range(self.num_features):\n",
        "      col = self.data[:,i]\n",
        "      self.data[:,i] = (self.data[:,i]-np.min(col))/(np.max(col)-np.min(col))\n",
        "    return self\n",
        "\n",
        "  def normalization(self):\n",
        "    for i in range(self.num_features):\n",
        "      col = self.data[:,i]\n",
        "      mu, sigma = np.mean(col), np.std(col)\n",
        "      self.data[:,]=(self.data[:,i]-mu)/sigma\n",
        "    return self\n",
        "\n",
        "  def scaler(self, scaling=None):\n",
        "    if scaling == 'minmax':\n",
        "      self.minmax()\n",
        "    elif scaling == 'stardard':\n",
        "      self.normalization()\n",
        "    else:\n",
        "      pass\n",
        "    return self.data"
      ]
    },
    {
      "cell_type": "code",
      "source": [
        "data = np.random.normal(0,10,(5,5))\n",
        "target = np.random.normal(0,1,5)\n",
        "print(data)\n",
        "data_processor = DataPreprocessing(data, target)\n",
        "data = data_processor.scaler('minmax')\n",
        "print(data)"
      ],
      "metadata": {
        "colab": {
          "base_uri": "https://localhost:8080/"
        },
        "id": "Ma0t2lnK4sTS",
        "outputId": "f291e5fe-b479-4e1e-b36e-39306c1dd33c"
      },
      "execution_count": 7,
      "outputs": [
        {
          "output_type": "stream",
          "name": "stdout",
          "text": [
            "[[  6.87841026   5.51718913  -1.41079692 -10.5569801   14.16038051]\n",
            " [  2.2246707   -2.31521172 -12.27443223  13.80907128 -11.75912119]\n",
            " [  3.69719284   0.38775681  10.80230548   6.22934094 -12.8060595 ]\n",
            " [  9.36256025   3.87382765  -6.82197675  -6.53930474   7.97874373]\n",
            " [ 25.59526717  -9.72062298   5.8701224    3.44557594   5.15911075]]\n",
            "[[0.19912798 1.         0.47076131 0.         1.        ]\n",
            " [0.         0.48598914 0.         1.         0.03882375]\n",
            " [0.06300747 0.66337475 1.         0.6889225  0.        ]\n",
            " [0.3054218  0.8921524  0.23627497 0.16488824 0.77076556]\n",
            " [1.         0.         0.78627035 0.57467481 0.66620474]]\n"
          ]
        }
      ]
    },
    {
      "cell_type": "code",
      "source": [
        "class DataPipeline(DataPreprocessing):\n",
        "  def __init__(self, data):\n",
        "    self.data = data\n",
        "    self.num_features = self.data.shape[1]\n",
        "pipe = DataPipeline(data)\n",
        "data = pipe.scaler('minmax')\n",
        "data"
      ],
      "metadata": {
        "colab": {
          "base_uri": "https://localhost:8080/"
        },
        "id": "vbMrYO_S6BHB",
        "outputId": "2e8bf93b-d72a-4697-e36a-c0c7ac6ff609"
      },
      "execution_count": 11,
      "outputs": [
        {
          "output_type": "execute_result",
          "data": {
            "text/plain": [
              "array([[0.19912798, 1.        , 0.47076131, 0.        , 1.        ],\n",
              "       [0.        , 0.48598914, 0.        , 1.        , 0.03882375],\n",
              "       [0.06300747, 0.66337475, 1.        , 0.6889225 , 0.        ],\n",
              "       [0.3054218 , 0.8921524 , 0.23627497, 0.16488824, 0.77076556],\n",
              "       [1.        , 0.        , 0.78627035, 0.57467481, 0.66620474]])"
            ]
          },
          "metadata": {},
          "execution_count": 11
        }
      ]
    }
  ]
}