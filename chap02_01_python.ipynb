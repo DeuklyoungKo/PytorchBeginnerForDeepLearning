{
  "nbformat": 4,
  "nbformat_minor": 0,
  "metadata": {
    "colab": {
      "name": "chap02_01_python.ipynb",
      "provenance": [],
      "collapsed_sections": [],
      "authorship_tag": "ABX9TyMQRfXynxaWo2pAPxgnmgCr",
      "include_colab_link": true
    },
    "kernelspec": {
      "name": "python3",
      "display_name": "Python 3"
    },
    "language_info": {
      "name": "python"
    }
  },
  "cells": [
    {
      "cell_type": "markdown",
      "metadata": {
        "id": "view-in-github",
        "colab_type": "text"
      },
      "source": [
        "<a href=\"https://colab.research.google.com/github/DeuklyoungKo/PytorchBeginnerForDeepLearning/blob/main/chap02_01_python.ipynb\" target=\"_parent\"><img src=\"https://colab.research.google.com/assets/colab-badge.svg\" alt=\"Open In Colab\"/></a>"
      ]
    },
    {
      "cell_type": "code",
      "execution_count": 1,
      "metadata": {
        "colab": {
          "base_uri": "https://localhost:8080/"
        },
        "id": "uYdWXITNL90s",
        "outputId": "eaeb745d-b799-4e65-9845-38bb7e26cbc1"
      },
      "outputs": [
        {
          "output_type": "execute_result",
          "data": {
            "text/plain": [
              "3.5999999999999996"
            ]
          },
          "metadata": {},
          "execution_count": 1
        }
      ],
      "source": [
        "x=.5\n",
        "y=1.2\n",
        "z=2.4\n",
        "y+z"
      ]
    },
    {
      "cell_type": "code",
      "source": [
        "a = {\"class\":[\"deep learning\",\"machine learning\"], \"num_students\":[40,20]}\n",
        "print(a)\n",
        "print(type(a))"
      ],
      "metadata": {
        "colab": {
          "base_uri": "https://localhost:8080/"
        },
        "id": "Y3U5VMQzWqKK",
        "outputId": "8b387325-a904-4fc5-8557-7eadde807563"
      },
      "execution_count": 5,
      "outputs": [
        {
          "output_type": "stream",
          "name": "stdout",
          "text": [
            "{'class': ['deep learning', 'machine learning'], 'num_students': [40, 20]}\n",
            "<class 'dict'>\n"
          ]
        }
      ]
    },
    {
      "cell_type": "code",
      "source": [
        "a[\"class\"]"
      ],
      "metadata": {
        "colab": {
          "base_uri": "https://localhost:8080/"
        },
        "id": "F6ZDkpE9XD81",
        "outputId": "3da0674a-41fb-4640-df2a-b8bcd9cf4868"
      },
      "execution_count": 7,
      "outputs": [
        {
          "output_type": "execute_result",
          "data": {
            "text/plain": [
              "['deep learning', 'machine learning']"
            ]
          },
          "metadata": {},
          "execution_count": 7
        }
      ]
    },
    {
      "cell_type": "code",
      "source": [
        "a['gade']=['A','B','C']\n",
        "a"
      ],
      "metadata": {
        "colab": {
          "base_uri": "https://localhost:8080/"
        },
        "id": "GX1yh9YBXbcA",
        "outputId": "09b2f652-c4db-4262-f363-e35be9901eaa"
      },
      "execution_count": 8,
      "outputs": [
        {
          "output_type": "execute_result",
          "data": {
            "text/plain": [
              "{'class': ['deep learning', 'machine learning'],\n",
              " 'gade': ['A', 'B', 'C'],\n",
              " 'num_students': [40, 20]}"
            ]
          },
          "metadata": {},
          "execution_count": 8
        }
      ]
    },
    {
      "cell_type": "code",
      "source": [
        "a.keys()"
      ],
      "metadata": {
        "colab": {
          "base_uri": "https://localhost:8080/"
        },
        "id": "VvD9HPWfXkWg",
        "outputId": "47725217-500d-4b4c-c5fd-4e9d680944b2"
      },
      "execution_count": 9,
      "outputs": [
        {
          "output_type": "execute_result",
          "data": {
            "text/plain": [
              "dict_keys(['class', 'num_students', 'gade'])"
            ]
          },
          "metadata": {},
          "execution_count": 9
        }
      ]
    },
    {
      "cell_type": "code",
      "source": [
        "list(a.keys())"
      ],
      "metadata": {
        "colab": {
          "base_uri": "https://localhost:8080/"
        },
        "id": "qpVuzoc3XpAE",
        "outputId": "bb25f63c-91fa-4675-ab2a-9b51e1195144"
      },
      "execution_count": 10,
      "outputs": [
        {
          "output_type": "execute_result",
          "data": {
            "text/plain": [
              "['class', 'num_students', 'gade']"
            ]
          },
          "metadata": {},
          "execution_count": 10
        }
      ]
    },
    {
      "cell_type": "code",
      "source": [
        "a.values()"
      ],
      "metadata": {
        "colab": {
          "base_uri": "https://localhost:8080/"
        },
        "id": "QM68B__pYMqT",
        "outputId": "dfa1fede-9a5d-4c48-ee2f-6f5440d413c5"
      },
      "execution_count": 11,
      "outputs": [
        {
          "output_type": "execute_result",
          "data": {
            "text/plain": [
              "dict_values([['deep learning', 'machine learning'], [40, 20], ['A', 'B', 'C']])"
            ]
          },
          "metadata": {},
          "execution_count": 11
        }
      ]
    },
    {
      "cell_type": "code",
      "source": [
        "list(a.values())"
      ],
      "metadata": {
        "colab": {
          "base_uri": "https://localhost:8080/"
        },
        "id": "M8CfSAv_YXt5",
        "outputId": "0ea50e5b-0ceb-4b0c-cc2d-a1c17b9b8809"
      },
      "execution_count": 13,
      "outputs": [
        {
          "output_type": "execute_result",
          "data": {
            "text/plain": [
              "[['deep learning', 'machine learning'], [40, 20], ['A', 'B', 'C']]"
            ]
          },
          "metadata": {},
          "execution_count": 13
        }
      ]
    },
    {
      "cell_type": "code",
      "source": [
        "a.items()"
      ],
      "metadata": {
        "colab": {
          "base_uri": "https://localhost:8080/"
        },
        "id": "3h9txCDHYRC7",
        "outputId": "ec34dbd8-683a-414b-f9ae-5357175bfb89"
      },
      "execution_count": 12,
      "outputs": [
        {
          "output_type": "execute_result",
          "data": {
            "text/plain": [
              "dict_items([('class', ['deep learning', 'machine learning']), ('num_students', [40, 20]), ('gade', ['A', 'B', 'C'])])"
            ]
          },
          "metadata": {},
          "execution_count": 12
        }
      ]
    },
    {
      "cell_type": "code",
      "source": [
        "import numpy as np\n",
        "\n",
        "d = np.arange(10)\n",
        "print(d)\n",
        "print(d.shape)\n",
        "\n",
        "x1 = d.reshape(1,10)\n",
        "print(x1)\n",
        "print(x1.shape)\n",
        "\n",
        "x2 = d.reshape(2,5)\n",
        "print(x2)\n",
        "print(x2.shape)\n",
        "\n",
        "x3 = d.reshape(2,-1)\n",
        "print(x3)\n",
        "print(x3.shape)\n",
        "\n",
        "x4 = d.reshape(5,-1)\n",
        "print(x4)\n",
        "print(x4.shape)"
      ],
      "metadata": {
        "colab": {
          "base_uri": "https://localhost:8080/"
        },
        "id": "jRGMqYO8ecPH",
        "outputId": "bc6f2cfd-eeb3-48f0-ab3b-4b1bb2ec7767"
      },
      "execution_count": 24,
      "outputs": [
        {
          "output_type": "stream",
          "name": "stdout",
          "text": [
            "[0 1 2 3 4 5 6 7 8 9]\n",
            "(10,)\n",
            "[[0 1 2 3 4 5 6 7 8 9]]\n",
            "(1, 10)\n",
            "[[0 1 2 3 4]\n",
            " [5 6 7 8 9]]\n",
            "(2, 5)\n",
            "[[0 1 2 3 4]\n",
            " [5 6 7 8 9]]\n",
            "(2, 5)\n",
            "[[0 1]\n",
            " [2 3]\n",
            " [4 5]\n",
            " [6 7]\n",
            " [8 9]]\n",
            "(5, 2)\n"
          ]
        }
      ]
    },
    {
      "cell_type": "code",
      "source": [
        "mu = 0\n",
        "sigma = 1\n",
        "arr = np.random.normal(mu, sigma, (5,3))\n",
        "arr"
      ],
      "metadata": {
        "colab": {
          "base_uri": "https://localhost:8080/"
        },
        "id": "qfEeLRujhYxb",
        "outputId": "4baffe89-b254-4be6-918d-0eae840c1696"
      },
      "execution_count": 26,
      "outputs": [
        {
          "output_type": "execute_result",
          "data": {
            "text/plain": [
              "array([[ 0.40484605,  0.10922397,  0.40968963],\n",
              "       [-2.1310764 , -1.59754644, -1.16790239],\n",
              "       [-1.33477696, -1.63809097, -0.61294149],\n",
              "       [ 0.11575869, -0.13698506, -1.57643777],\n",
              "       [ 0.02770553,  1.73851312,  1.15439069]])"
            ]
          },
          "metadata": {},
          "execution_count": 26
        }
      ]
    },
    {
      "cell_type": "code",
      "source": [
        "np.where(abs(arr) > sigma, \"out\", \"in\")"
      ],
      "metadata": {
        "colab": {
          "base_uri": "https://localhost:8080/"
        },
        "id": "vJrXUHPah7BM",
        "outputId": "ca092a33-237a-4730-d2b3-e5c2110715f6"
      },
      "execution_count": 27,
      "outputs": [
        {
          "output_type": "execute_result",
          "data": {
            "text/plain": [
              "array([['in', 'in', 'in'],\n",
              "       ['out', 'out', 'out'],\n",
              "       ['out', 'out', 'in'],\n",
              "       ['in', 'in', 'out'],\n",
              "       ['in', 'out', 'out']], dtype='<U3')"
            ]
          },
          "metadata": {},
          "execution_count": 27
        }
      ]
    },
    {
      "cell_type": "code",
      "source": [
        "x = np.where(abs(arr) > sigma)\n",
        "x"
      ],
      "metadata": {
        "colab": {
          "base_uri": "https://localhost:8080/"
        },
        "id": "3DyxXgbJiDaQ",
        "outputId": "0801acab-f871-487d-d6d7-542c5acc0b6c"
      },
      "execution_count": 29,
      "outputs": [
        {
          "output_type": "execute_result",
          "data": {
            "text/plain": [
              "(array([1, 1, 1, 2, 2, 3, 4, 4]), array([0, 1, 2, 0, 1, 2, 1, 2]))"
            ]
          },
          "metadata": {},
          "execution_count": 29
        }
      ]
    },
    {
      "cell_type": "code",
      "source": [
        "a = np.array([[1,3],[0,-1]])\n",
        "b = np.random.randint(0,10,4).reshape(2,2)\n",
        "print(\"a=\",a)\n",
        "print(\"b=\",b)\n",
        "a+b"
      ],
      "metadata": {
        "colab": {
          "base_uri": "https://localhost:8080/"
        },
        "id": "FINrFXZCnBUX",
        "outputId": "ff609d4a-5129-42ab-e10a-aab588f1f13a"
      },
      "execution_count": 33,
      "outputs": [
        {
          "output_type": "stream",
          "name": "stdout",
          "text": [
            "a= [[ 1  3]\n",
            " [ 0 -1]]\n",
            "b= [[3 8]\n",
            " [8 5]]\n"
          ]
        },
        {
          "output_type": "execute_result",
          "data": {
            "text/plain": [
              "array([[ 4, 11],\n",
              "       [ 8,  4]])"
            ]
          },
          "metadata": {},
          "execution_count": 33
        }
      ]
    },
    {
      "cell_type": "code",
      "source": [
        "print(a*b)\n",
        "print(a**b)\n",
        "print(np.matmul(a,b))"
      ],
      "metadata": {
        "colab": {
          "base_uri": "https://localhost:8080/"
        },
        "id": "1pRF7j5Unmne",
        "outputId": "22d07608-fa96-4ad1-aa38-aa7185e43e53"
      },
      "execution_count": 37,
      "outputs": [
        {
          "output_type": "stream",
          "name": "stdout",
          "text": [
            "[[ 3 24]\n",
            " [ 0 -5]]\n",
            "[[   1 6561]\n",
            " [   0   -1]]\n",
            "[[27 23]\n",
            " [-8 -5]]\n"
          ]
        }
      ]
    },
    {
      "cell_type": "code",
      "source": [
        "print(np.concatenate([a,b], axis=0))\n",
        "print(np.vstack((a,b)))\n",
        "print(np.concatenate([a,b], axis=1))\n",
        "print(np.hstack((a,b)))\n"
      ],
      "metadata": {
        "colab": {
          "base_uri": "https://localhost:8080/"
        },
        "id": "yBbp4a_8n0p9",
        "outputId": "1be20469-4fc5-4d4f-df2b-fcc773651747"
      },
      "execution_count": 41,
      "outputs": [
        {
          "output_type": "stream",
          "name": "stdout",
          "text": [
            "[[ 1  3]\n",
            " [ 0 -1]\n",
            " [ 3  8]\n",
            " [ 8  5]]\n",
            "[[ 1  3]\n",
            " [ 0 -1]\n",
            " [ 3  8]\n",
            " [ 8  5]]\n",
            "[[ 1  3  3  8]\n",
            " [ 0 -1  8  5]]\n",
            "[[ 1  3  3  8]\n",
            " [ 0 -1  8  5]]\n"
          ]
        }
      ]
    },
    {
      "cell_type": "code",
      "source": [
        "z = np.random.randint(0,2,(2,3))\n",
        "z"
      ],
      "metadata": {
        "colab": {
          "base_uri": "https://localhost:8080/"
        },
        "id": "ASaGNsQ2t4HX",
        "outputId": "265c8131-bcbb-468f-9025-1f493023a798"
      },
      "execution_count": 42,
      "outputs": [
        {
          "output_type": "execute_result",
          "data": {
            "text/plain": [
              "array([[1, 1, 0],\n",
              "       [0, 1, 1]])"
            ]
          },
          "metadata": {},
          "execution_count": 42
        }
      ]
    }
  ]
}