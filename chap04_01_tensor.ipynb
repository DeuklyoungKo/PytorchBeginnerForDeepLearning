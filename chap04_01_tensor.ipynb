{
  "nbformat": 4,
  "nbformat_minor": 0,
  "metadata": {
    "colab": {
      "name": "chap04_01_tensor.ipynb",
      "provenance": [],
      "collapsed_sections": [],
      "authorship_tag": "ABX9TyPZIxIU+JtS958XdtvIqx9y",
      "include_colab_link": true
    },
    "kernelspec": {
      "name": "python3",
      "display_name": "Python 3"
    },
    "language_info": {
      "name": "python"
    }
  },
  "cells": [
    {
      "cell_type": "markdown",
      "metadata": {
        "id": "view-in-github",
        "colab_type": "text"
      },
      "source": [
        "<a href=\"https://colab.research.google.com/github/DeuklyoungKo/PytorchBeginnerForDeepLearning/blob/main/chap04_01_tensor.ipynb\" target=\"_parent\"><img src=\"https://colab.research.google.com/assets/colab-badge.svg\" alt=\"Open In Colab\"/></a>"
      ]
    },
    {
      "cell_type": "code",
      "execution_count": 1,
      "metadata": {
        "colab": {
          "base_uri": "https://localhost:8080/"
        },
        "id": "8RWKjYJdisAG",
        "outputId": "8676b895-fe01-45f2-8798-478b61196edb"
      },
      "outputs": [
        {
          "output_type": "stream",
          "name": "stdout",
          "text": [
            "torch.Size([8, 8])\n"
          ]
        }
      ],
      "source": [
        "import torch\n",
        "import numpy as np\n",
        "\n",
        "x = torch.rand(8,8)\n",
        "print(x.size())"
      ]
    },
    {
      "cell_type": "code",
      "source": [
        "a = x.view(64)\n",
        "print(x.size())\n",
        "print(a.size())\n",
        "print(a)"
      ],
      "metadata": {
        "colab": {
          "base_uri": "https://localhost:8080/"
        },
        "id": "wWwOFjljjADE",
        "outputId": "4e2dff23-4df8-441f-9a65-4c11069e7c1f"
      },
      "execution_count": 3,
      "outputs": [
        {
          "output_type": "stream",
          "name": "stdout",
          "text": [
            "torch.Size([8, 8])\n",
            "torch.Size([64])\n",
            "tensor([0.7062, 0.7037, 0.9210, 0.5862, 0.0632, 0.4968, 0.9335, 0.0047, 0.0619,\n",
            "        0.0153, 0.7637, 0.8076, 0.3551, 0.5193, 0.5647, 0.7885, 0.0200, 0.4287,\n",
            "        0.1295, 0.0338, 0.7406, 0.2380, 0.9807, 0.5156, 0.6644, 0.1305, 0.5276,\n",
            "        0.3260, 0.8892, 0.2840, 0.8532, 0.6731, 0.3730, 0.4671, 0.6970, 0.4356,\n",
            "        0.6359, 0.3776, 0.9581, 0.7579, 0.1215, 0.1125, 0.3968, 0.1056, 0.3202,\n",
            "        0.3962, 0.6624, 0.6009, 0.9409, 0.6813, 0.2275, 0.6339, 0.8743, 0.8682,\n",
            "        0.6359, 0.7893, 0.5894, 0.8968, 0.8993, 0.6984, 0.5863, 0.3736, 0.8560,\n",
            "        0.4860])\n"
          ]
        }
      ]
    },
    {
      "cell_type": "code",
      "source": [
        "b = x.view(-1,4,4) # -1은 원래 크기가 되게 하는 값 8x8 -> -1x4x4 즉, 4x4x4이다.\n",
        "print(b.size())\n",
        "print(b)"
      ],
      "metadata": {
        "colab": {
          "base_uri": "https://localhost:8080/"
        },
        "id": "lTrYKVnjjPz9",
        "outputId": "9ccb319d-5c12-41c0-c8a0-2a40c9c5b4b2"
      },
      "execution_count": 5,
      "outputs": [
        {
          "output_type": "stream",
          "name": "stdout",
          "text": [
            "torch.Size([4, 4, 4])\n",
            "tensor([[[0.7062, 0.7037, 0.9210, 0.5862],\n",
            "         [0.0632, 0.4968, 0.9335, 0.0047],\n",
            "         [0.0619, 0.0153, 0.7637, 0.8076],\n",
            "         [0.3551, 0.5193, 0.5647, 0.7885]],\n",
            "\n",
            "        [[0.0200, 0.4287, 0.1295, 0.0338],\n",
            "         [0.7406, 0.2380, 0.9807, 0.5156],\n",
            "         [0.6644, 0.1305, 0.5276, 0.3260],\n",
            "         [0.8892, 0.2840, 0.8532, 0.6731]],\n",
            "\n",
            "        [[0.3730, 0.4671, 0.6970, 0.4356],\n",
            "         [0.6359, 0.3776, 0.9581, 0.7579],\n",
            "         [0.1215, 0.1125, 0.3968, 0.1056],\n",
            "         [0.3202, 0.3962, 0.6624, 0.6009]],\n",
            "\n",
            "        [[0.9409, 0.6813, 0.2275, 0.6339],\n",
            "         [0.8743, 0.8682, 0.6359, 0.7893],\n",
            "         [0.5894, 0.8968, 0.8993, 0.6984],\n",
            "         [0.5863, 0.3736, 0.8560, 0.4860]]])\n"
          ]
        }
      ]
    },
    {
      "cell_type": "code",
      "source": [
        "x = torch.rand(8,8)\n",
        "y = x.numpy()\n",
        "print(type(y))\n",
        "print(x)\n",
        "print(y)\n",
        "\n",
        "\n",
        "\n",
        "\n"
      ],
      "metadata": {
        "colab": {
          "base_uri": "https://localhost:8080/"
        },
        "id": "pX-d4p6nj7h0",
        "outputId": "8326e912-7381-42c9-dc66-e17e4f7dd04d"
      },
      "execution_count": 14,
      "outputs": [
        {
          "output_type": "stream",
          "name": "stdout",
          "text": [
            "<class 'numpy.ndarray'>\n",
            "tensor([[0.4159, 0.4371, 0.6022, 0.6075, 0.0825, 0.0086, 0.3129, 0.0455],\n",
            "        [0.4775, 0.7944, 0.7658, 0.0741, 0.4404, 0.6189, 0.7995, 0.3433],\n",
            "        [0.9642, 0.1550, 0.6923, 0.8379, 0.5133, 0.4165, 0.6130, 0.8734],\n",
            "        [0.2583, 0.2441, 0.1172, 0.5304, 0.7250, 0.2223, 0.0914, 0.0778],\n",
            "        [0.1523, 0.2750, 0.2194, 0.7184, 0.4391, 0.2738, 0.7777, 0.2538],\n",
            "        [0.6751, 0.3353, 0.2544, 0.1140, 0.5102, 0.2138, 0.9678, 0.6076],\n",
            "        [0.6768, 0.0183, 0.3528, 0.7605, 0.0790, 0.4618, 0.9156, 0.4311],\n",
            "        [0.5073, 0.4952, 0.3927, 0.9317, 0.6146, 0.4495, 0.6511, 0.1058]])\n",
            "[[0.41588163 0.43706262 0.6021721  0.60745615 0.08252668 0.00863439\n",
            "  0.31294662 0.04553467]\n",
            " [0.47749364 0.79440266 0.7658294  0.07411289 0.44041795 0.6188508\n",
            "  0.79947394 0.34327608]\n",
            " [0.96422666 0.15500051 0.69225883 0.8378537  0.5133326  0.4164517\n",
            "  0.61302835 0.8733965 ]\n",
            " [0.2582876  0.24410892 0.11716467 0.53041923 0.7249917  0.22225022\n",
            "  0.09141111 0.07775313]\n",
            " [0.15227735 0.27500063 0.21938926 0.71836424 0.43905395 0.2737676\n",
            "  0.7777469  0.2538231 ]\n",
            " [0.6751157  0.33529967 0.2544188  0.11403239 0.510195   0.21384645\n",
            "  0.9677785  0.60758746]\n",
            " [0.67684513 0.0182597  0.3527574  0.7605428  0.07900524 0.46178907\n",
            "  0.9156499  0.43105894]\n",
            " [0.5072712  0.49521798 0.3926623  0.93167967 0.6146438  0.4495138\n",
            "  0.65114105 0.10581362]]\n",
            "<class 'list'>\n",
            "tensor([1, 2, 3, 4])\n"
          ]
        }
      ]
    },
    {
      "cell_type": "code",
      "source": [
        "z = [1,2,3,4]\n",
        "print(type(z))\n",
        "t = torch.tensor(z)\n",
        "print(t)\n",
        "\n",
        "print(t.numpy())"
      ],
      "metadata": {
        "colab": {
          "base_uri": "https://localhost:8080/"
        },
        "id": "-7h1DPADlPSn",
        "outputId": "d8a7bc26-a360-4ef0-fb71-05bd64da29c3"
      },
      "execution_count": 18,
      "outputs": [
        {
          "output_type": "stream",
          "name": "stdout",
          "text": [
            "<class 'list'>\n",
            "tensor([1, 2, 3, 4])\n",
            "[1 2 3 4]\n"
          ]
        }
      ]
    }
  ]
}